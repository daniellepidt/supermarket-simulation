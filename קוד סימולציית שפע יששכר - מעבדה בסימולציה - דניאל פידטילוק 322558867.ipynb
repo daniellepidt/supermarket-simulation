{
 "cells": [
  {
   "cell_type": "markdown",
   "id": "7967970e",
   "metadata": {},
   "source": [
    "# Shefa Issachar Simulation"
   ]
  },
  {
   "cell_type": "markdown",
   "id": "b935a7bf",
   "metadata": {},
   "source": [
    "Fun fact: did you know that 'Cash Register' was shot in Petah Tikva?"
   ]
  },
  {
   "cell_type": "code",
   "execution_count": 1,
   "id": "65ba5b7a",
   "metadata": {},
   "outputs": [],
   "source": [
    "import numpy as np\n",
    "import heapq\n",
    "from pylab import plot, show, bar\n",
    "import matplotlib.pyplot as plt\n",
    "import random\n",
    "import statistics"
   ]
  },
  {
   "cell_type": "markdown",
   "id": "2d136a04",
   "metadata": {},
   "source": [
    "Class of events: \n",
    "There will be 5 events: (1) arriving (2) leaving (3) arguing (4) making a round (5) taking a numa (break)"
   ]
  },
  {
   "cell_type": "code",
   "execution_count": 2,
   "id": "9d796df6",
   "metadata": {},
   "outputs": [],
   "source": [
    "#Event class\n",
    "class Event():\n",
    "    def __init__(self, time, eventType, customer=None):\n",
    "        self.time = time  # event time\n",
    "        self.eventType = eventType  # Type of the event\n",
    "        self.customer = customer\n",
    "        heapq.heappush(P, self)  # add the event to the events list\n",
    "\n",
    "    def __lt__(self, event2):\n",
    "        return self.time < event2.time"
   ]
  },
  {
   "cell_type": "markdown",
   "id": "d472b714",
   "metadata": {},
   "source": [
    "Class of customers : there are attributes that we need to know for each customers for running the code. As we know, Natan Franco is nothing like Shuni who is nothing like Amnon who is absolutely nothing like Mrs. Pepperny."
   ]
  },
  {
   "cell_type": "code",
   "execution_count": 3,
   "id": "f4c3aec7",
   "metadata": {},
   "outputs": [],
   "source": [
    "#Customer class\n",
    "class Customer():\n",
    "    def __init__(self, arrival_time, i, type=1):\n",
    "        self.id = i\n",
    "        self.arrival_time = arrival_time\n",
    "        self.type = type  # 1 = regular, 2 = Amnon type\n",
    "        self.round = 0\n",
    "    \n",
    "    def __lt__(self, c2):\n",
    "        return self.arrival_time < c2.arrival_time"
   ]
  },
  {
   "cell_type": "markdown",
   "id": "67db6087",
   "metadata": {},
   "source": [
    "The system is supermarket, there are no special attributes we need to save for it."
   ]
  },
  {
   "cell_type": "code",
   "execution_count": 4,
   "id": "c0b59662",
   "metadata": {},
   "outputs": [],
   "source": [
    "# Global variables for generic code\n",
    "#Initialization\n",
    "T_max = 14 # 14 work hours each day\n",
    "NUMOFDAYS = 100 # Number of the needed iterations\n",
    "P = [] # Minimum tree of the events\n",
    "cust_count = 0 # Total number of customers of naming them\n",
    "R_avg = {i : [] for i in range(7,21)} # Dictionary for analysis of rounds\n",
    "L_avg = {i : [] for i in range(7,21)} # Dictionary for analysis of L tilda"
   ]
  },
  {
   "cell_type": "markdown",
   "id": "c335d5d8",
   "metadata": {},
   "source": [
    "## Simulation"
   ]
  },
  {
   "cell_type": "code",
   "execution_count": 5,
   "id": "fdd62ce8",
   "metadata": {
    "scrolled": false
   },
   "outputs": [],
   "source": [
    "#First loop for running NUMOFDAYS days\n",
    "for i in range(NUMOFDAYS):\n",
    "    \n",
    "    #Initialization each day\n",
    "    A = 0 # The state of the servers: 0 - Both Anatoly and Nissim are available, 1 - Anatoly or Nissim is busy, 2 - Both of them are busy\n",
    "    L = 0 # Number of customers in the system\n",
    "    people_in = [] # List of the people in the queue, len(people_in) is the length of the queue\n",
    "    T_now = 7 # The time of current event\n",
    "    T_prev = 0 # The time of previous event\n",
    "    cust_count += 1 # Number of arrived customers, for indexing them\n",
    "    \n",
    "    # Creating first event:\n",
    "    x = np.random.exponential(1 / 20) + 7  # 20 customers per hour means there is a customer every 3 minutes\n",
    "    t = np.random.random(1)\n",
    "    if t <= 0.8:\n",
    "        customer = Customer(x, cust_count)\n",
    "    else:\n",
    "        customer = Customer(x, cust_count, 2)\n",
    "    Event(x, \"arriving\", customer)\n",
    "    \n",
    "    \"\"\"Initialization of the counters: first L_avg and R_ang are like a diary - we will count each hour the needed values for\n",
    "       NUMOFDAYS days, then we will calculate the mean of each hour in those dictionary.\"\"\" \n",
    "    \n",
    "    for m in L_avg:\n",
    "        L_avg[m].append(0)\n",
    "        R_avg[m].append(0)\n",
    "    \n",
    "    #The simulation itself: will work until the max time (T_max) or until we don't have anymore events \n",
    "    while T_now < T_max + 7 and P:\n",
    "        \n",
    "        # Popping the event from P tree (the earliest event)\n",
    "        event = heapq.heappop(P)\n",
    "        # If there is an event with customer - we want to work with it\n",
    "        c = event.customer\n",
    "        # קידום שעון הסימולציה\n",
    "        T_prev = T_now\n",
    "        T_now = event.time\n",
    "        \n",
    "        # Calculating the L tilda for each hour\n",
    "        L_avg[int(T_now)][len(L_avg[int(T_now)])-1] += L*(T_now - T_prev)\n",
    "        \n",
    "        if event.eventType == \"arriving\":\n",
    "            # If you want to watch the simulation, delete # in the next comment\n",
    "            #print(\"Customer no. %d arrived at %s\" %(c.id, str(T_now)))\n",
    "            \n",
    "            L += 1 # A customer arrived\n",
    "            if len(people_in) >= 5:\n",
    "                # The customer will make a round\n",
    "                c.round += 1\n",
    "                # Calculating the number of rounds for each hour\n",
    "                R_avg[int(T_now + (5/60))][len(R_avg[int(T_now + (5/60))]) - 1] += 1\n",
    "                #Creating event\n",
    "                Event(T_now + (5/60), \"making a round\", c)\n",
    "            else:\n",
    "                if A < 2: # if the servers are available \n",
    "                    A += 1 # one is now busy\n",
    "                    # Creating event\n",
    "                    if c.type == 2: #If the customer is annoying\n",
    "                        Event(T_now + (2/60), \"arguing\", c)\n",
    "                    else:\n",
    "                        Event(T_now + np.random.exponential(1/20), \"leaving\", c)\n",
    "                else: # if both of them are busy\n",
    "                    # adding to queue\n",
    "                    heapq.heappush(people_in,(c.arrival_time,c))\n",
    "\n",
    "            \n",
    "            #Creating the next arriving event\n",
    "            if T_now < 20: # Because customers arrive only until 8 pm \n",
    "                cust_count += 1 # Adding new customer to the system\n",
    "                if 7 <= T_now < 16:\n",
    "                    x = np.random.exponential(1 / 20)\n",
    "                else:\n",
    "                    x = np.random.exponential(1/40)\n",
    "                t = np.random.random(1) # Making him regular or annoying\n",
    "                if t <= 0.8:\n",
    "                    customer2 = Customer(T_now, cust_count)\n",
    "                else:\n",
    "                    customer2 = Customer(T_now, cust_count, 2)\n",
    "                Event(T_now + x, \"arriving\", customer2)\n",
    "\n",
    "        elif event.eventType == \"leaving\":\n",
    "            # If you want to watch the simulation, delete # in the next comment\n",
    "            #print(\"Customer no. %d left at %s\" % (c.id, str(T_now)))\n",
    "            \n",
    "            L -= 1 # One customer left the system\n",
    "            # If this customer was annoying, there is a chance that the server will want to take a numa\n",
    "            n = 0\n",
    "            if c.type == 2:\n",
    "                n = np.random.random(1)\n",
    "            if n > 0.85:\n",
    "                # Creating an event\n",
    "                Event(T_now + (20 / 60), \"taking a numa\")\n",
    "            else: # If the server didn't take a numa\n",
    "                if not people_in: # If there is no one in the queue, make the server available\n",
    "                    A -= 1\n",
    "                else:\n",
    "                    # Creating an event\n",
    "                    time,c = heapq.heappop(people_in) # Popping the next customer in the queue\n",
    "                    if c.type == 2: # if he is annoying\n",
    "                        Event(T_now + (2 / 60), \"arguing\", c)\n",
    "                    else:\n",
    "                        Event(T_now + np.random.exponential(1 / 20), \"leaving\", c)\n",
    "\n",
    "        elif event.eventType == \"making a round\":\n",
    "            # If you want to watch the simulation, delete # in the next comment\n",
    "            #print(\"Customer no. %d making a round at %s\" % (c.id, str(T_now)))\n",
    "            \n",
    "            if len(people_in) < 5:\n",
    "                # Means he doesn't need to do another round or abandonment\n",
    "                if A < 2: # If the server is available\n",
    "                    # Creating an event\n",
    "                    if c.type == 2:\n",
    "                        Event(T_now + (2 / 60), \"arguing\", c)\n",
    "                    else:\n",
    "                        Event(T_now + np.random.exponential(1 / 20), \"leaving\", c)\n",
    "                else:\n",
    "                    # Adding him to the queue\n",
    "                    heapq.heappush(people_in, (c.arrival_time, c))\n",
    "            else: # If he needs to do another round\n",
    "                if c.round < 2:\n",
    "                    # Calculating the number of rounds for each hour\n",
    "                    R_avg[int(T_now + (5/60))][len(R_avg[int(T_now + (5/60))]) - 1] += 1\n",
    "                    # The customer will make a round\n",
    "                    c.round += 1\n",
    "                    # Creating an event\n",
    "                    Event(T_now + (5/60), \"making a round\", c)\n",
    "                else:\n",
    "                    # He does abandonment = one customer less in the system\n",
    "                    L -= 1\n",
    "\n",
    "        elif event.eventType == \"arguing\":\n",
    "            # If you want to watch the simulation, delete # in the next comment\n",
    "            #print(\"Customer no. %d is arguing at %s\" % (c.id, str(T_now)))\n",
    "            \n",
    "             # Creating an event\n",
    "            Event(T_now + np.random.exponential(1/20), \"leaving\", c)\n",
    "\n",
    "        elif event.eventType == \"taking a numa\":\n",
    "            # If you want to watch the simulation, delete \"\"\" in the next comments\n",
    "            \"\"\"p = np.random.random(1)\n",
    "            if p <= 0.5:\n",
    "                print(\"Anatoly is taking numa\")\n",
    "            else:\n",
    "                print(\"Nissim is taking a numa and dreams about his grandmother\")\"\"\"\n",
    "            \n",
    "            if people_in: # If there is a queue\n",
    "                # Popping the next customer in line\n",
    "                time, c = heapq.heappop(people_in)\n",
    "                # Creating an event\n",
    "                if c.type == 2: # If he is annoying\n",
    "                    Event(T_now + (2/60), \"arguing\", c)\n",
    "                else:\n",
    "                    Event(T_now + np.random.exponential(1/20), \"leaving\", c)\n",
    "            else: # If there is no one in line, make the one server available\n",
    "                A -= 1\n",
    "# End of simulation"
   ]
  },
  {
   "cell_type": "markdown",
   "id": "833a9a52",
   "metadata": {},
   "source": [
    "### Analisys"
   ]
  },
  {
   "cell_type": "markdown",
   "id": "b325bcdd",
   "metadata": {},
   "source": [
    "Creating mean dictionaries for dairy dictionaries with statistics"
   ]
  },
  {
   "cell_type": "code",
   "execution_count": 6,
   "id": "0e326d9f",
   "metadata": {},
   "outputs": [
    {
     "name": "stdout",
     "output_type": "stream",
     "text": [
      "{7: 1.553343862202341, 8: 2.145587379773675, 9: 2.1548390720186275, 10: 2.181602482419405, 11: 2.096663273417379, 12: 2.2458879151783533, 13: 2.185986036181158, 14: 2.1008902569135377, 15: 1.8902294721603397, 16: 5.540150775281283, 17: 8.132446448120007, 18: 7.854647219898648, 19: 8.403429420605342, 20: 1.3819634473703306}\n",
      "{7: 0.78, 8: 1.78, 9: 1.83, 10: 1.82, 11: 1.44, 12: 1.95, 13: 1.58, 14: 1.54, 15: 0.83, 16: 15.95, 17: 32.48, 18: 30.69, 19: 34.91, 20: 3.96}\n"
     ]
    }
   ],
   "source": [
    "for t in range (7,21):\n",
    "    L_avg[int(t)] = statistics.mean(L_avg[int(t)])\n",
    "    R_avg[int(t)] = statistics.mean(R_avg[int(t)])\n",
    "    \n",
    "print(L_avg)\n",
    "print(R_avg)"
   ]
  },
  {
   "cell_type": "code",
   "execution_count": 7,
   "id": "e85371a9",
   "metadata": {},
   "outputs": [
    {
     "data": {
      "image/png": "[encoded data removed]",
      "text/plain": [
       "<Figure size 432x288 with 1 Axes>"
      ]
     },
     "metadata": {
      "needs_background": "light"
     },
     "output_type": "display_data"
    }
   ],
   "source": [
    "# Plot L_avg\n",
    "plt.bar(range(len(L_avg)), L_avg.values(), align='center')\n",
    "plt.xticks(range(len(L_avg)), L_avg.keys())\n",
    "plt.xlabel('Time [hours]')\n",
    "plt.ylabel('L tilda')\n",
    "plt.title('Expect number of people in the system in 100 days')\n",
    "plt.show()"
   ]
  },
  {
   "cell_type": "code",
   "execution_count": 8,
   "id": "90cbb3d5",
   "metadata": {},
   "outputs": [
    {
     "data": {
      "image/png": "[encoded data removed]",
      "text/plain": [
       "<Figure size 432x288 with 1 Axes>"
      ]
     },
     "metadata": {
      "needs_background": "light"
     },
     "output_type": "display_data"
    }
   ],
   "source": [
    "# Plot R_avg\n",
    "plt.bar(range(len(R_avg)), R_avg.values(), align='center')\n",
    "plt.xticks(range(len(R_avg)), R_avg.keys())\n",
    "plt.xlabel('Time [hours]')\n",
    "plt.ylabel('Number of rounds')\n",
    "plt.title('Average number of rounds in the system in 100 days')\n",
    "plt.show()"
   ]
  }
 ],
 "metadata": {
  "kernelspec": {
   "display_name": "Python 3",
   "language": "python",
   "name": "python3"
  },
  "language_info": {
   "codemirror_mode": {
    "name": "ipython",
    "version": 3
   },
   "file_extension": ".py",
   "mimetype": "text/x-python",
   "name": "python",
   "nbconvert_exporter": "python",
   "pygments_lexer": "ipython3",
   "version": "3.8.8"
  }
 },
 "nbformat": 4,
 "nbformat_minor": 5
}
